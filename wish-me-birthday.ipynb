{
 "cells": [
  {
   "cell_type": "code",
   "execution_count": 1,
   "id": "initial_id",
   "metadata": {
    "collapsed": true,
    "ExecuteTime": {
     "end_time": "2024-03-22T06:16:45.204156Z",
     "start_time": "2024-03-22T06:16:28.202383Z"
    }
   },
   "outputs": [
    {
     "name": "stdout",
     "output_type": "stream",
     "text": [
      "Running on local URL:  http://127.0.0.1:7861\n",
      "\n",
      "To create a public link, set `share=True` in `launch()`.\n"
     ]
    },
    {
     "data": {
      "text/plain": "<IPython.core.display.HTML object>",
      "text/html": "<div><iframe src=\"http://127.0.0.1:7861/\" width=\"100%\" height=\"500\" allow=\"autoplay; camera; microphone; clipboard-read; clipboard-write;\" frameborder=\"0\" allowfullscreen></iframe></div>"
     },
     "metadata": {},
     "output_type": "display_data"
    },
    {
     "data": {
      "text/plain": ""
     },
     "execution_count": 1,
     "metadata": {},
     "output_type": "execute_result"
    }
   ],
   "source": [
    "import torch\n",
    "from transformers import GPT2LMHeadModel, GPT2Tokenizer\n",
    "import gradio as gr\n",
    "\n",
    "model_name = \"sberbank-ai/rugpt3small_based_on_gpt2\"\n",
    "tokenizer = GPT2Tokenizer.from_pretrained(model_name)\n",
    "model = GPT2LMHeadModel.from_pretrained(model_name)\n",
    "\n",
    "model.eval()\n",
    "\n",
    "def generate_birthday_greeting(name):\n",
    "    input_text = f\"С днём рождения, {name}! Пусть этот день будет наполнен радостью и счастьем. \"\n",
    "    input_ids = tokenizer.encode(input_text, return_tensors='pt')\n",
    "\n",
    "\n",
    "    with torch.no_grad():\n",
    "        output = model.generate(input_ids, max_length=200, num_return_sequences=1,\n",
    "                                temperature=0.9, do_sample=True, pad_token_id=tokenizer.eos_token_id)\n",
    "\n",
    "\n",
    "    generated_text = tokenizer.decode(output[0], skip_special_tokens=True)\n",
    "    lines = generated_text.split('\\n')\n",
    "    relevant_part = \"\"\n",
    "    for line in lines:\n",
    "        if line.startswith(\"С днём рождения\") or line.startswith(\"Пусть этот день\"):\n",
    "            relevant_part += line + \"\\n\"\n",
    "        if len(relevant_part.split('\\n')) >= 5:  # can adjust lines :)\n",
    "            break\n",
    "\n",
    "    return relevant_part.strip()\n",
    "\n",
    "\n",
    "example_names = [\"Елена\", \"Андрей\", \"Сергей\", \"Наташа\", \"Ольга\"]\n",
    "\n",
    "\n",
    "iface = gr.Interface(fn=generate_birthday_greeting, inputs=\"text\", outputs=\"text\",\n",
    "                     title=\"Birthday Greeting Generator\", description=\"Введите имя, кого вы хотите пожелать на день рождения)\",\n",
    "                     examples=[[name] for name in example_names])\n",
    "\n",
    "iface.launch()"
   ]
  },
  {
   "cell_type": "code",
   "outputs": [],
   "source": [],
   "metadata": {
    "collapsed": false
   },
   "id": "8c8bd4b3fb066a53"
  }
 ],
 "metadata": {
  "kernelspec": {
   "display_name": "Python 3",
   "language": "python",
   "name": "python3"
  },
  "language_info": {
   "codemirror_mode": {
    "name": "ipython",
    "version": 2
   },
   "file_extension": ".py",
   "mimetype": "text/x-python",
   "name": "python",
   "nbconvert_exporter": "python",
   "pygments_lexer": "ipython2",
   "version": "2.7.6"
  }
 },
 "nbformat": 4,
 "nbformat_minor": 5
}
