{
 "cells": [
  {
   "cell_type": "code",
   "execution_count": 10,
   "id": "1a503d4333f258c",
   "metadata": {
    "collapsed": false,
    "ExecuteTime": {
     "end_time": "2024-03-22T06:11:45.658467Z",
     "start_time": "2024-03-22T06:11:40.511538Z"
    }
   },
   "outputs": [
    {
     "name": "stdout",
     "output_type": "stream",
     "text": [
      "Running on local URL:  http://127.0.0.1:7860\n",
      "\n",
      "To create a public link, set `share=True` in `launch()`.\n"
     ]
    },
    {
     "data": {
      "text/plain": "<IPython.core.display.HTML object>",
      "text/html": "<div><iframe src=\"http://127.0.0.1:7860/\" width=\"100%\" height=\"500\" allow=\"autoplay; camera; microphone; clipboard-read; clipboard-write;\" frameborder=\"0\" allowfullscreen></iframe></div>"
     },
     "metadata": {},
     "output_type": "display_data"
    },
    {
     "data": {
      "text/plain": ""
     },
     "execution_count": 2,
     "metadata": {},
     "output_type": "execute_result"
    }
   ],
   "source": [
    "import torch\n",
    "from transformers import GPT2LMHeadModel, GPT2Tokenizer\n",
    "import gradio as gr\n",
    "\n",
    "model_name = \"sberbank-ai/rugpt3small_based_on_gpt2\"\n",
    "tokenizer = GPT2Tokenizer.from_pretrained(model_name)\n",
    "model = GPT2LMHeadModel.from_pretrained(model_name)\n",
    "\n",
    "model.eval()\n",
    "\n",
    "def generate_birthday_greeting(name):\n",
    "    input_text = f\"С днём рождения, {name}! Пусть этот день будет наполнен радостью и счастьем. \"\n",
    "    input_ids = tokenizer.encode(input_text, return_tensors='pt')\n",
    "\n",
    "\n",
    "    with torch.no_grad():\n",
    "        output = model.generate(input_ids, max_length=200, num_return_sequences=1,\n",
    "                                temperature=0.9, do_sample=True, pad_token_id=tokenizer.eos_token_id)\n",
    "\n",
    "  \n",
    "    generated_text = tokenizer.decode(output[0], skip_special_tokens=True)\n",
    "    lines = generated_text.split('\\n')\n",
    "    relevant_part = \"\"\n",
    "    for line in lines:\n",
    "        if line.startswith(\"С днём рождения\") or line.startswith(\"Пусть этот день\"):\n",
    "            relevant_part += line + \"\\n\"\n",
    "        if len(relevant_part.split('\\n')) >= 5:  # can adjust lines :)\n",
    "            break\n",
    "\n",
    "    return relevant_part.strip()\n",
    "\n",
    "\n",
    "example_names = [\"Елена\", \"Андрей\", \"Сергей\", \"Наташа\", \"Ольга\"]\n",
    "\n",
    "\n",
    "iface = gr.Interface(fn=generate_birthday_greeting, inputs=\"text\", outputs=\"text\",\n",
    "                     title=\"Birthday Greeting Generator\", description=\"Введите имя, кого вы хотите пожелать на день рождения)\",\n",
    "                     examples=[[name] for name in example_names])\n",
    "\n",
    "\n",
    "iface.launch()"
   ]
  },
  {
   "cell_type": "markdown",
   "source": [
    "### Description | Описание\n",
    "\n",
    "Итак, я использовал `PyTorch` для функций глубокого обучения (мне просто было удобнее использовать графический процессор - GPU ) и библиотеку преобразователей HuggingFace для доступа к предварительно обученным языковым моделям, в частности <a href=\"https://huggingface.co/ai-forever/rugpt3small_based_on_gpt2\">GPT-2 (sberbank-ai/rugpt3small_based_on_gpt2) </a>. Загрузив модель GPT-2 и токенизатор, я смог генерировать поздравления с днем рождения на основе введенных пользователем имен. Модель оптимизирована для генерации поздравлений с днем рождения, что делает ее подходящей для этой задачи. <a href=\"https://www.gradio.app/\">Gradio<a/> был использован для создания интуитивно понятного интерфейса, позволяющего пользователям легко взаимодействовать с моделью.\n",
    "\n"
   ],
   "metadata": {
    "collapsed": false
   },
   "id": "2d2452895924ea2a"
  },
  {
   "cell_type": "code",
   "outputs": [],
   "source": [],
   "metadata": {
    "collapsed": false
   },
   "id": "cc85bea2086e3d71"
  }
 ],
 "metadata": {
  "kernelspec": {
   "display_name": "Python 3 (ipykernel)",
   "language": "python",
   "name": "python3"
  },
  "language_info": {
   "codemirror_mode": {
    "name": "ipython",
    "version": 3
   },
   "file_extension": ".py",
   "mimetype": "text/x-python",
   "name": "python",
   "nbconvert_exporter": "python",
   "pygments_lexer": "ipython3",
   "version": "3.12.1"
  }
 },
 "nbformat": 4,
 "nbformat_minor": 5
}
