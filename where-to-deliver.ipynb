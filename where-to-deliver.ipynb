{
 "cells": [
  {
   "cell_type": "code",
   "outputs": [],
   "source": [
    "import pandas as pd\n",
    "import spacy\n",
    "from sklearn.model_selection import train_test_split\n",
    "from sklearn.feature_extraction.text import CountVectorizer\n",
    "from sklearn.naive_bayes import MultinomialNB\n",
    "from sklearn.pipeline import Pipeline\n",
    "from sklearn.metrics import accuracy_score\n",
    "from sklearn.metrics import confusion_matrix\n",
    "import seaborn as sns\n",
    "import matplotlib.pyplot as plt"
   ],
   "metadata": {
    "collapsed": false,
    "ExecuteTime": {
     "end_time": "2024-03-22T06:11:30.575118Z",
     "start_time": "2024-03-22T06:11:30.565525Z"
    }
   },
   "id": "b4b496c3f8dfa82e",
   "execution_count": 11
  },
  {
   "cell_type": "code",
   "outputs": [
    {
     "name": "stdout",
     "output_type": "stream",
     "text": [
      "   Unnamed: 0                                            message\n",
      "0           0  Привет! Я хочу заказать букет роз доставить в ...\n",
      "1           1  Привет, хочу заказать доставку цветов в Новоси...\n",
      "2           2  Здравствуйте, сколько стоит доставка цветов в ...\n",
      "3           3  Здравствуйте, сколько стоит доставка цветов в ...\n",
      "4           4  Привет! Хочу заказать цветы на день рождения п...\n"
     ]
    }
   ],
   "source": [
    "nlp = spacy.load(\"ru_core_news_sm\")\n",
    "df = pd.read_csv('data.csv')\n",
    "print(df.head())"
   ],
   "metadata": {
    "collapsed": false,
    "ExecuteTime": {
     "end_time": "2024-03-22T06:11:32.287862Z",
     "start_time": "2024-03-22T06:11:30.605450Z"
    }
   },
   "id": "7a8944558680a775",
   "execution_count": 12
  },
  {
   "cell_type": "markdown",
   "source": [
    "## Извлечение городов из набора данных с помощью Spacy \n",
    "Extracting the cities from the dataset using Spacy"
   ],
   "metadata": {
    "collapsed": false
   },
   "id": "60875f5f06da3a81"
  },
  {
   "cell_type": "code",
   "outputs": [
    {
     "name": "stdout",
     "output_type": "stream",
     "text": [
      "                                               message     city_spacy\n",
      "0    Привет! Я хочу заказать букет роз доставить в ...          Питер\n",
      "1    Привет, хочу заказать доставку цветов в Новоси...    Новосибирск\n",
      "2    Здравствуйте, сколько стоит доставка цветов в ...  Екатеринбурге\n",
      "3    Здравствуйте, сколько стоит доставка цветов в ...            Екб\n",
      "4    Привет! Хочу заказать цветы на день рождения п...           None\n",
      "..                                                 ...            ...\n",
      "115  Привет, доставите букет роз в г. екат? Срочно ...           None\n",
      "116  Привет, сколько стоит доставка цветов в г. ниж...           None\n",
      "117  Хочу цветы в Новосибирске. Скорее быстро сдела...   Новосибирске\n",
      "118  Здравствуйте! Хочу заказать букет роз с достав...            Алм\n",
      "119  Здравствуйте. Я хочу заказать цветы в Москву н...         Москву\n",
      "\n",
      "[120 rows x 2 columns]\n"
     ]
    }
   ],
   "source": [
    "def extract_city_spacy_dif(message):\n",
    "    doc = nlp(message)\n",
    "    cities = []\n",
    "    for ent in doc.ents:\n",
    "        if ent.label_ == 'LOC' and len(ent.text) > 2: \n",
    "            cities.append(ent.text)\n",
    "    return cities\n",
    "\n",
    "df['city_spacy'] = df['message'].apply(extract_city_spacy_dif)\n",
    "df['city_spacy'] = df['city_spacy'].apply(lambda x: x[0] if x else None)\n",
    "print(df[['message', 'city_spacy']])\n"
   ],
   "metadata": {
    "collapsed": false,
    "ExecuteTime": {
     "end_time": "2024-03-22T06:11:33.903129Z",
     "start_time": "2024-03-22T06:11:32.290874Z"
    }
   },
   "id": "16683283b35b5103",
   "execution_count": 13
  },
  {
   "cell_type": "markdown",
   "source": [
    "### Извлеченные города\n",
    "Extracted cities"
   ],
   "metadata": {
    "collapsed": false
   },
   "id": "9a9f24b613302001"
  },
  {
   "cell_type": "code",
   "outputs": [
    {
     "name": "stdout",
     "output_type": "stream",
     "text": [
      "Питер\n",
      "Новосибирск\n",
      "Екатеринбурге\n",
      "Екб\n",
      "No city found\n",
      "Нижнем\n",
      "Астану\n",
      "Нижнем Новгороде\n",
      "Новосибирск\n",
      "С-Петербург\n",
      "Москве\n",
      "Петербурге\n",
      "Санкт-Петербурге\n",
      "Москва\n",
      "Екатеринбург\n",
      "Алматы\n",
      "Новосиб\n",
      "Новосибирск\n",
      "Новосибирске\n",
      "Москва\n",
      "Новосиб\n",
      "Москва\n",
      "Нижнем Новгороде\n",
      "Нижний Новгород\n",
      "Нижний Новгород\n",
      "No city found\n",
      "Питере\n",
      "No city found\n",
      "No city found\n",
      "Нижний Новгород\n",
      "Санкт-Петербург\n",
      "Новосибирске\n",
      "Новосибирске\n",
      "Новосибирск\n",
      "Новосиб\n",
      "Новосиб\n",
      "Питере\n",
      "Москва\n",
      "Новосибирск\n",
      "Екатеринбург\n",
      "Питер\n",
      "Екатеринбург\n",
      "Нижний Новгород\n",
      "Москва\n",
      "Москве\n",
      "Нур-Султан\n",
      "No city found\n",
      "Москве\n",
      "No city found\n",
      "Нижний Новгород\n",
      "Нижнем Новгороде\n",
      "Санкт-Петербурге\n",
      "Санкт-Петербурге\n",
      "Екб\n",
      "No city found\n",
      "No city found\n",
      "Астана\n",
      "Екатеринбурге\n",
      "Екатеринбург\n",
      "No city found\n",
      "Нур-Султан\n",
      "Новосиб\n",
      "Екатеринбург\n",
      "Новосибирск\n",
      "Нижнем Новгороде\n",
      "Мск\n",
      "Екатеринбург\n",
      "Новосибирске\n",
      "Алм\n",
      "No city found\n",
      "Москве\n",
      "Москву\n",
      "No city found\n",
      "Нижний Новгород\n",
      "екат\n",
      "No city found\n",
      "Нижний Новгород\n",
      "Москву\n",
      "No city found\n",
      "Москве\n",
      "Нижнем Новгороде\n",
      "Екатеринбург\n",
      "Новосиб\n",
      "No city found\n",
      "Н.Новгород\n",
      "Санкт-Петербург\n",
      "Нижний Новгород\n",
      "No city found\n",
      "Екатеринбурге\n",
      "Санкт-Петербурге\n",
      "екат\n",
      "Маскве\n",
      "Нижнем Новгороде\n",
      "No city found\n",
      "Нижний Новгород\n",
      "Екатеринбург\n",
      "Нижнем Новгороде\n",
      "Санкт-Петербург\n",
      "No city found\n",
      "No city found\n",
      "No city found\n",
      "Москвы\n",
      "Новосибирск\n",
      "Новосибирск\n",
      "Новосиб\n",
      "Новосибирск\n",
      "Москве\n",
      "Екб\n",
      "Екатеринбурге\n",
      "Новосиб\n",
      "Петербурге\n",
      "No city found\n",
      "Нижний Новгород\n",
      "Новосибирск\n",
      "Нижний-Новгород\n",
      "No city found\n",
      "No city found\n",
      "Новосибирске\n",
      "Алм\n",
      "Москву\n"
     ]
    }
   ],
   "source": [
    "df['city_spacy'] = df['message'].apply(extract_city_spacy_dif)\n",
    "for cities in df['city_spacy']:\n",
    "    if cities:\n",
    "        print(cities[0])\n",
    "    else:\n",
    "        print(\"No city found\")\n"
   ],
   "metadata": {
    "collapsed": false,
    "ExecuteTime": {
     "end_time": "2024-03-22T06:11:35.434772Z",
     "start_time": "2024-03-22T06:11:33.905142Z"
    }
   },
   "id": "8f36c17cb55feeec",
   "execution_count": 14
  },
  {
   "cell_type": "code",
   "outputs": [
    {
     "name": "stdout",
     "output_type": "stream",
     "text": [
      "Number of cities found: 30\n",
      "\n",
      "City Counts:\n",
      "city_spacy\n",
      "[]                    22\n",
      "[Нижний Новгород]     10\n",
      "[Новосибирск]         10\n",
      "[Екатеринбург]         8\n",
      "[Новосиб]              8\n",
      "[Нижнем Новгороде]     7\n",
      "[Москве]               6\n",
      "[Москва]               5\n",
      "[Новосибирске]         5\n",
      "[Санкт-Петербурге]     4\n",
      "[Екатеринбурге]        4\n",
      "[Москву]               3\n",
      "[Екб]                  3\n",
      "[Санкт-Петербург]      3\n",
      "[екат]                 2\n",
      "[Алм]                  2\n",
      "[Питере]               2\n",
      "[Нур-Султан]           2\n",
      "[Питер]                2\n",
      "[Петербурге]           2\n",
      "[Алматы]               1\n",
      "[Астана]               1\n",
      "[Мск]                  1\n",
      "[С-Петербург]          1\n",
      "[Астану]               1\n",
      "[Нижнем]               1\n",
      "[Н.Новгород]           1\n",
      "[Маскве]               1\n",
      "[Москвы]               1\n",
      "[Нижний-Новгород]      1\n",
      "Name: count, dtype: int64\n"
     ]
    }
   ],
   "source": [
    "city_counts = df['city_spacy'].value_counts()\n",
    "print(\"Number of cities found:\", len(city_counts))\n",
    "print(\"\\nCity Counts:\")\n",
    "print(city_counts)"
   ],
   "metadata": {
    "collapsed": false,
    "ExecuteTime": {
     "end_time": "2024-03-22T06:11:35.448275Z",
     "start_time": "2024-03-22T06:11:35.435839Z"
    }
   },
   "id": "aa705d16c8d42caa",
   "execution_count": 15
  },
  {
   "cell_type": "markdown",
   "source": [],
   "metadata": {
    "collapsed": false
   },
   "id": "36bfd7253aa4e95"
  },
  {
   "cell_type": "markdown",
   "source": [
    "## Внедрение модели машинного обучения для прогнозирования\n",
    "Implementing ML model to predict "
   ],
   "metadata": {
    "collapsed": false
   },
   "id": "6172394bbc8c61d7"
  },
  {
   "cell_type": "code",
   "outputs": [
    {
     "name": "stdout",
     "output_type": "stream",
     "text": [
      "Accuracy: 0.6\n",
      "Predicted Cities: ['санкт-петербург' 'екатеринбург' 'нижний новгород' 'нижний новгород'\n",
      " 'екатеринбург' 'нижний новгород' 'москва' 'новосибирск' 'екатеринбург'] ['екатеринбург' 'москва' 'санкт-петербург' 'екатеринбург'\n",
      " 'нижний новгород' 'нижний новгород' 'новосибирск' 'санкт-петербург'\n",
      " 'екатеринбург']\n"
     ]
    }
   ],
   "source": [
    "\n",
    "city_mappings = {\n",
    "    'н. новгород': 'нижний новгород',\n",
    "    'нижнем':'нижний новгород',\n",
    "    'нижний новгород': 'нижний новгород',\n",
    "    'новосибирск': 'новосибирск',\n",
    "    'екатеринбург': 'екатеринбург',\n",
    "    'нижнем новгороде': 'нижний новгород',\n",
    "    'москве': 'москва',\n",
    "    'москва': 'москва',\n",
    "    'новосибирске': 'новосибирск',\n",
    "    'екатеринбурге': 'екатеринбург',\n",
    "    'санкт-петербурге': 'санкт-петербург',\n",
    "    'екат': 'екатеринбург',\n",
    "    'москву': 'москва',\n",
    "    'санкт-петербург': 'санкт-петербург',\n",
    "    'петербурге': 'санкт-петербург',\n",
    "    'спб': 'санкт-петербург',\n",
    "    'екб - город': 'екатеринбург',\n",
    "    'новосиб': 'новосибирск',\n",
    "    'питере': 'санкт-петербург',\n",
    "    'питер': 'санкт-петербург',\n",
    "    'с-петербург':'санкт-петербург',\n",
    "    'астана': 'астана',\n",
    "    'нур-султан': 'астана',\n",
    "    'астану': 'астана',\n",
    "    'екб': 'екатеринбург',\n",
    "    'мск': 'москва',\n",
    "    'маскве': 'москва',\n",
    "    'москвы': 'москва',\n",
    "    'нижний-новгород': 'нижний новгород',\n",
    "    'алм': 'алматы',\n",
    "}\n",
    "\n",
    "def extract_city_spacy(message):\n",
    "    doc = nlp(message)\n",
    "    cities = []\n",
    "    for ent in doc.ents:\n",
    "        if ent.label_ == 'LOC' and ent.text.lower() in city_mappings and len(ent.text) > 2:\n",
    "            cities.append(ent.text.lower())\n",
    "    return cities\n",
    "\n",
    "df['city_spacy'] = df['message'].apply(extract_city_spacy)\n",
    "df['city_spacy_mapped'] = df['city_spacy'].apply(lambda x: [city_mappings[city] for city in x])\n",
    "df['city_spacy_mapped'] = df['city_spacy_mapped'].apply(lambda x: x[0] if x else None)\n",
    "\n",
    "df.dropna(subset=['city_spacy_mapped'], inplace=True)\n",
    "\n",
    "X = df['message']\n",
    "y = df['city_spacy_mapped']\n",
    "\n",
    "X_train, X_test, y_train, y_test = train_test_split(X, y, test_size=0.2, random_state=42)\n",
    "\n",
    "pipeline = Pipeline([\n",
    "    ('vectorizer', CountVectorizer()),\n",
    "    ('classifier', MultinomialNB())\n",
    "])\n",
    "\n",
    "pipeline.fit(X_train, y_train)\n",
    "\n",
    "y_pred = pipeline.predict(X_test)\n",
    "accuracy = accuracy_score(y_test, y_pred)\n",
    "print(\"Accuracy:\", accuracy)\n",
    "\n",
    "new_messages_1 = [\n",
    "    \"Планирую путешествие в Санкт-Петербург на следующей неделе.\",\n",
    "    \"Заказываю билеты на поезд в Екатеринбург на выходные.\",\n",
    "    \"Ищу отель в Астане для предстоящей командировки.\",\n",
    "    \"Покупаю билеты на автобус в Нижний Новгород на праздники.\",\n",
    "    \"Нужен трансфер из аэропорта в Новосибирске до отеля.\",\n",
    "    \"Планирую поездку в Алматы для участия в конференции.\",\n",
    "    \"Мечтаю посетить Москву на следующих выходных.\",\n",
    "    \"Ищу достопримечательности в Новосибирске для туристической поездки.\",\n",
    "    \"Хочу заказать доставку цветов в Петербурге на день рождения друга.\"\n",
    "]\n",
    "\n",
    "new_messages_2 = [\n",
    "    \"Собираюсь отправиться в Екатеринбург на ближайшие выходные.\",\n",
    "    \"Ищу гостиницу в Москве для предстоящей деловой встречи.\",\n",
    "    \"Планирую экскурсию по достопримечательностям Санкт-Петербурга.\",\n",
    "    \"Намечается деловая поездка в Астану на следующей неделе.\",\n",
    "    \"Хочу посетить Нижний Новгород и познакомиться с его историей.\",\n",
    "    \"Покупаю билеты на самолет в Новосибирск на новогодние каникулы.\",\n",
    "    \"Ищу рестораны с местной кухней в Алматы.\",\n",
    "    \"Планирую поездку в Санкт-Петербург на майские праздники.\",\n",
    "    \"Ищу отель в Екатеринбурге с бассейном и спа-центром.\"\n",
    "]\n",
    "\n",
    "\n",
    "predicted_cities_1 = pipeline.predict(new_messages_1)\n",
    "predicted_cities_2 = pipeline.predict(new_messages_2)\n",
    "\n",
    "print(\"Predicted Cities:\", predicted_cities_1, predicted_cities_2)\n"
   ],
   "metadata": {
    "collapsed": false,
    "ExecuteTime": {
     "end_time": "2024-03-22T06:11:36.944040Z",
     "start_time": "2024-03-22T06:11:35.451288Z"
    }
   },
   "id": "27b67e1e625005c8",
   "execution_count": 16
  },
  {
   "cell_type": "markdown",
   "source": [
    "### Матрица путаницы после прогнозирования\n",
    "Post prediction confusion matrix"
   ],
   "metadata": {
    "collapsed": false
   },
   "id": "2c4fdf5f4cd90e72"
  },
  {
   "cell_type": "code",
   "outputs": [
    {
     "data": {
      "text/plain": "<Figure size 1000x800 with 2 Axes>",
      "image/png": "[encoded data removed]"
     },
     "metadata": {},
     "output_type": "display_data"
    }
   ],
   "source": [
    "conf_matrix = confusion_matrix(y_test, y_pred)\n",
    "\n",
    "plt.figure(figsize=(10, 8))\n",
    "sns.heatmap(conf_matrix, annot=True, fmt='d', cmap='Blues', xticklabels=pipeline.classes_, yticklabels=pipeline.classes_)\n",
    "plt.xlabel('Predicted')\n",
    "plt.ylabel('Actual')\n",
    "plt.title('Confusion Matrix')\n",
    "plt.show()\n"
   ],
   "metadata": {
    "collapsed": false,
    "ExecuteTime": {
     "end_time": "2024-03-22T06:11:37.394082Z",
     "start_time": "2024-03-22T06:11:36.947052Z"
    }
   },
   "id": "ba8e76e78823d36b",
   "execution_count": 17
  },
  {
   "cell_type": "markdown",
   "source": [
    "график, чтобы лучше понять прогноз"
   ],
   "metadata": {
    "collapsed": false
   },
   "id": "cfad1650bf1f0b25"
  },
  {
   "cell_type": "code",
   "outputs": [
    {
     "data": {
      "text/plain": "<Figure size 1200x800 with 0 Axes>"
     },
     "metadata": {},
     "output_type": "display_data"
    },
    {
     "data": {
      "text/plain": "<Figure size 640x480 with 1 Axes>",
      "image/png": "[encoded data removed]"
     },
     "metadata": {},
     "output_type": "display_data"
    }
   ],
   "source": [
    "predicted_test = pipeline.predict(X_test)\n",
    "actual_vs_predicted = pd.DataFrame({'Actual': y_test, 'Predicted': predicted_test})\n",
    "\n",
    "actual_vs_predicted['Predicted'] = actual_vs_predicted['Predicted'].map(city_mappings)\n",
    "city_counts = actual_vs_predicted.groupby(['Actual', 'Predicted']).size().unstack(fill_value=0)\n",
    "\n",
    "plt.figure(figsize=(12, 8))\n",
    "city_counts.plot(kind='bar', stacked=True)\n",
    "plt.xlabel('Actual Cities')\n",
    "plt.ylabel('Number of Predictions')\n",
    "plt.title('Actual vs Predicted Cities')\n",
    "plt.legend(title='Predicted Cities', bbox_to_anchor=(1.05, 1), loc='upper left')\n",
    "plt.xticks(rotation=45, ha='right')\n",
    "plt.tight_layout()\n",
    "plt.show()"
   ],
   "metadata": {
    "collapsed": false,
    "ExecuteTime": {
     "end_time": "2024-03-22T06:11:37.790904Z",
     "start_time": "2024-03-22T06:11:37.397096Z"
    }
   },
   "id": "31ed2e86cf116bd8",
   "execution_count": 18
  },
  {
   "cell_type": "markdown",
   "source": [],
   "metadata": {
    "collapsed": false
   },
   "id": "ae5b49921f11fdab"
  },
  {
   "cell_type": "markdown",
   "source": [
    "### Description | Описание\n",
    "Я начал с загрузки данных из файла CSV и предварительной их обработки для извлечения названий городов, упомянутых в текстовых сообщениях, с помощью `spaCy`. Чтобы обрабатывать вариации названий городов, я создаю словарь для сопоставления различных представлений со стандартизированными названиями городов (для обучения ML). Затем я разделяю данные на обучающий и тестовый наборы. Используя `scikit-learn`, я создаю конвейер машинного обучения, состоящий из `CountVectorizer` для преобразования текста в числовые характеристики и `многочленного наивного байесовского классификатора (Multinomial Naive Bayes classifier)` для прогнозирования. После обучения модели на обучающих данных я оцениваю ее точность на тестовых данных (`new_messages_1` и `new_messages_2`). Для дальнейшего анализа эффективности модели я визуализирую результаты с помощью матрицы путаницы, которая помогает мне понять, насколько хорошо модель предсказывает названия городов.\n",
    "Как видите, точность `0,6` предполагает, что модель правильно предсказывает названия городов в 60% случаев. Точность низкая из-за размера набора данных."
   ],
   "metadata": {
    "collapsed": false
   },
   "id": "33e291b90928d334"
  },
  {
   "cell_type": "code",
   "outputs": [],
   "source": [],
   "metadata": {
    "collapsed": false,
    "ExecuteTime": {
     "end_time": "2024-03-22T06:11:37.797820Z",
     "start_time": "2024-03-22T06:11:37.792916Z"
    }
   },
   "id": "d31134239f989607",
   "execution_count": 18
  }
 ],
 "metadata": {
  "kernelspec": {
   "display_name": "Python 3",
   "language": "python",
   "name": "python3"
  },
  "language_info": {
   "codemirror_mode": {
    "name": "ipython",
    "version": 2
   },
   "file_extension": ".py",
   "mimetype": "text/x-python",
   "name": "python",
   "nbconvert_exporter": "python",
   "pygments_lexer": "ipython2",
   "version": "2.7.6"
  }
 },
 "nbformat": 4,
 "nbformat_minor": 5
}
